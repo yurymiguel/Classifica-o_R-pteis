{
 "cells": [
  {
   "cell_type": "markdown",
   "id": "38c3a91c",
   "metadata": {},
   "source": [
    "Importação dos Dados e Bibliotecas"
   ]
  },
  {
   "cell_type": "code",
   "execution_count": 57,
   "id": "18703738",
   "metadata": {},
   "outputs": [],
   "source": [
    "import pandas as pd\n",
    "import seaborn as sns\n",
    "import numpy as np\n",
    "from sklearn.model_selection import train_test_split\n",
    "from sklearn.model_selection import cross_val_score\n",
    "from sklearn.metrics import classification_report,mean_absolute_error\n",
    "from sklearn.preprocessing import LabelEncoder\n",
    "from sklearn.linear_model import LogisticRegression\n",
    "from sklearn import tree\n",
    "import joblib\n",
    "import warnings\n",
    "warnings.filterwarnings('ignore')"
   ]
  },
  {
   "cell_type": "code",
   "execution_count": 58,
   "id": "a1321f4b",
   "metadata": {},
   "outputs": [
    {
     "data": {
      "text/html": [
       "<div>\n",
       "<style scoped>\n",
       "    .dataframe tbody tr th:only-of-type {\n",
       "        vertical-align: middle;\n",
       "    }\n",
       "\n",
       "    .dataframe tbody tr th {\n",
       "        vertical-align: top;\n",
       "    }\n",
       "\n",
       "    .dataframe thead th {\n",
       "        text-align: right;\n",
       "    }\n",
       "</style>\n",
       "<table border=\"1\" class=\"dataframe\">\n",
       "  <thead>\n",
       "    <tr style=\"text-align: right;\">\n",
       "      <th></th>\n",
       "      <th>Nome</th>\n",
       "      <th>Tamanho</th>\n",
       "      <th>Fucinho</th>\n",
       "      <th>Peso</th>\n",
       "      <th>Coloração</th>\n",
       "      <th>Alimentação</th>\n",
       "      <th>Região</th>\n",
       "    </tr>\n",
       "  </thead>\n",
       "  <tbody>\n",
       "    <tr>\n",
       "      <th>80</th>\n",
       "      <td>Crocodylus acutus</td>\n",
       "      <td>3,8</td>\n",
       "      <td>Longo</td>\n",
       "      <td>418.00</td>\n",
       "      <td>Cinza</td>\n",
       "      <td>Crustaceos</td>\n",
       "      <td>America Central</td>\n",
       "    </tr>\n",
       "    <tr>\n",
       "      <th>81</th>\n",
       "      <td>Crocodylus acutus</td>\n",
       "      <td>3,9</td>\n",
       "      <td>Medio</td>\n",
       "      <td>420.00</td>\n",
       "      <td>Preto</td>\n",
       "      <td>Moluscos</td>\n",
       "      <td>America Central</td>\n",
       "    </tr>\n",
       "    <tr>\n",
       "      <th>82</th>\n",
       "      <td>Caiman yacare</td>\n",
       "      <td>3,0</td>\n",
       "      <td>Medio</td>\n",
       "      <td>300.00</td>\n",
       "      <td>Amarelo Escuro</td>\n",
       "      <td>Peixes</td>\n",
       "      <td>America do Sul</td>\n",
       "    </tr>\n",
       "    <tr>\n",
       "      <th>83</th>\n",
       "      <td>Caiman yacare</td>\n",
       "      <td>2,6</td>\n",
       "      <td>Medio</td>\n",
       "      <td>320.67</td>\n",
       "      <td>Preto</td>\n",
       "      <td>Moluscos</td>\n",
       "      <td>America do Sul</td>\n",
       "    </tr>\n",
       "    <tr>\n",
       "      <th>84</th>\n",
       "      <td>Caiman yacare</td>\n",
       "      <td>3,3</td>\n",
       "      <td>Medio</td>\n",
       "      <td>290.00</td>\n",
       "      <td>Preto Amarelo</td>\n",
       "      <td>Moluscos</td>\n",
       "      <td>America do Sul</td>\n",
       "    </tr>\n",
       "    <tr>\n",
       "      <th>...</th>\n",
       "      <td>...</td>\n",
       "      <td>...</td>\n",
       "      <td>...</td>\n",
       "      <td>...</td>\n",
       "      <td>...</td>\n",
       "      <td>...</td>\n",
       "      <td>...</td>\n",
       "    </tr>\n",
       "    <tr>\n",
       "      <th>146</th>\n",
       "      <td>Alligator mississippiensis</td>\n",
       "      <td>2,7</td>\n",
       "      <td>Medio</td>\n",
       "      <td>390.00</td>\n",
       "      <td>Verde Escuro</td>\n",
       "      <td>Peixes</td>\n",
       "      <td>Estados Unidos</td>\n",
       "    </tr>\n",
       "    <tr>\n",
       "      <th>147</th>\n",
       "      <td>Alligator mississippiensis</td>\n",
       "      <td>3,0</td>\n",
       "      <td>Curto</td>\n",
       "      <td>395.20</td>\n",
       "      <td>Preto</td>\n",
       "      <td>Peixes</td>\n",
       "      <td>Estados Unidos</td>\n",
       "    </tr>\n",
       "    <tr>\n",
       "      <th>148</th>\n",
       "      <td>Alligator mississippiensis</td>\n",
       "      <td>2,3</td>\n",
       "      <td>Curto</td>\n",
       "      <td>420.00</td>\n",
       "      <td>Cinza</td>\n",
       "      <td>Inseto</td>\n",
       "      <td>Estados Unidos</td>\n",
       "    </tr>\n",
       "    <tr>\n",
       "      <th>149</th>\n",
       "      <td>Alligator mississippiensis</td>\n",
       "      <td>2,2</td>\n",
       "      <td>Medio</td>\n",
       "      <td>400.00</td>\n",
       "      <td>Verde Escuro</td>\n",
       "      <td>Inseto</td>\n",
       "      <td>Estados Unidos</td>\n",
       "    </tr>\n",
       "    <tr>\n",
       "      <th>150</th>\n",
       "      <td>Alligator mississippiensis</td>\n",
       "      <td>3,9</td>\n",
       "      <td>Curto</td>\n",
       "      <td>370.50</td>\n",
       "      <td>Preto</td>\n",
       "      <td>Cobra</td>\n",
       "      <td>Estados Unidos</td>\n",
       "    </tr>\n",
       "  </tbody>\n",
       "</table>\n",
       "<p>71 rows × 7 columns</p>\n",
       "</div>"
      ],
      "text/plain": [
       "                           Nome Tamanho Fucinho    Peso       Coloração  \\\n",
       "80            Crocodylus acutus     3,8   Longo  418.00           Cinza   \n",
       "81            Crocodylus acutus     3,9   Medio  420.00           Preto   \n",
       "82                Caiman yacare     3,0   Medio  300.00  Amarelo Escuro   \n",
       "83                Caiman yacare     2,6   Medio  320.67           Preto   \n",
       "84                Caiman yacare     3,3   Medio  290.00   Preto Amarelo   \n",
       "..                          ...     ...     ...     ...             ...   \n",
       "146  Alligator mississippiensis     2,7   Medio  390.00    Verde Escuro   \n",
       "147  Alligator mississippiensis     3,0   Curto  395.20           Preto   \n",
       "148  Alligator mississippiensis     2,3   Curto  420.00           Cinza   \n",
       "149  Alligator mississippiensis     2,2   Medio  400.00    Verde Escuro   \n",
       "150  Alligator mississippiensis     3,9   Curto  370.50           Preto   \n",
       "\n",
       "    Alimentação           Região  \n",
       "80   Crustaceos  America Central  \n",
       "81     Moluscos  America Central  \n",
       "82       Peixes   America do Sul  \n",
       "83     Moluscos   America do Sul  \n",
       "84     Moluscos   America do Sul  \n",
       "..          ...              ...  \n",
       "146      Peixes   Estados Unidos  \n",
       "147      Peixes   Estados Unidos  \n",
       "148      Inseto   Estados Unidos  \n",
       "149      Inseto   Estados Unidos  \n",
       "150       Cobra   Estados Unidos  \n",
       "\n",
       "[71 rows x 7 columns]"
      ]
     },
     "execution_count": 58,
     "metadata": {},
     "output_type": "execute_result"
    }
   ],
   "source": [
    "df = pd.read_csv('Aligators x Crocodiles.csv')\n",
    "df.loc[80:150]"
   ]
  },
  {
   "cell_type": "markdown",
   "id": "eae615f0",
   "metadata": {},
   "source": [
    "Analise dos Dados"
   ]
  },
  {
   "cell_type": "code",
   "execution_count": 54,
   "id": "cfe72cea",
   "metadata": {},
   "outputs": [
    {
     "name": "stdout",
     "output_type": "stream",
     "text": [
      "<class 'pandas.core.frame.DataFrame'>\n",
      "RangeIndex: 164 entries, 0 to 163\n",
      "Data columns (total 7 columns):\n",
      " #   Column       Non-Null Count  Dtype  \n",
      "---  ------       --------------  -----  \n",
      " 0   Nome         164 non-null    object \n",
      " 1   Tamanho      164 non-null    object \n",
      " 2   Fucinho      164 non-null    object \n",
      " 3   Peso         164 non-null    float64\n",
      " 4   Coloração    164 non-null    object \n",
      " 5   Alimentação  164 non-null    object \n",
      " 6   Região       164 non-null    object \n",
      "dtypes: float64(1), object(6)\n",
      "memory usage: 9.1+ KB\n"
     ]
    }
   ],
   "source": [
    "df.info()"
   ]
  },
  {
   "cell_type": "markdown",
   "id": "55ec6961",
   "metadata": {},
   "source": [
    "Transformações das Colunas Object Para Categóricas, e Coluna Tamanho em Float"
   ]
  },
  {
   "cell_type": "code",
   "execution_count": 55,
   "id": "51cd2884",
   "metadata": {},
   "outputs": [],
   "source": [
    "def formata_numeros(num, alphas=(), decimals=None):\n",
    "    \"\"\"\n",
    "    Transforma em inteiro ou real dependendo do formato que o número apresentar.\n",
    "\n",
    "    1. Parâmetros:\n",
    "        - num: (str) string numérica a ser transformada\n",
    "        - alphas: (iter) conjunto de caracteres que devem ser \n",
    "        removidos antes do número ser transformado em float.\n",
    "        - decimal_houses: (int) representa a quantidade de casas decimais que o\n",
    "        número terá ao ser retornado.\n",
    "    \n",
    "    2. Exemplos:\n",
    "    In [1]: formata_numeros('123,456,789.1011')\n",
    "    Out[1]: 123456789.1011\n",
    "\n",
    "    In [2]: formata_numeros('R$ 123.456.789,1011')\n",
    "    Out[2]: 123456789.1011\n",
    "\n",
    "    In [3]: formata_numeros('98,99%')\n",
    "    Out[3]: 0.9899\n",
    "    >>> \n",
    "    \"\"\"\n",
    "    import re\n",
    "    if num:\n",
    "        num = str(num).strip()\n",
    "        original = num\n",
    "        percentage_pattern = re.compile(\"([0-9])+[,|.]([0-9])+%\")\n",
    "        percentage = bool(percentage_pattern.match(num))\n",
    "        alphas = set((*alphas, *'%$R°º()'))\n",
    "        num = ''.join([c for c in num if c not in alphas])\n",
    "        num = re.split('\\,|\\.', num)\n",
    "        try:\n",
    "            if len(num) > 1: # É FLOAT\n",
    "                num = float(''.join(num[:-1])+'.'+num[-1])\n",
    "                if decimals and not percentage:\n",
    "                    return format(num, f'.{decimals}f')\n",
    "                elif decimals and percentage:\n",
    "                    return format(num/100, f'.{decimals}f')\n",
    "                elif not decimals and not percentage:\n",
    "                    return num\n",
    "                elif not decimals and percentage:\n",
    "                    return num/100\n",
    "            else: # É INTEIRO\n",
    "                if percentage:\n",
    "                    return int(''.join(num))/100\n",
    "                else:\n",
    "                    return int(''.join(num))\n",
    "        except ValueError:\n",
    "            num = ''.join(num[:-1]) + '.' + num[-1]\n",
    "            raise ValueError(\n",
    "                f\"Não foi possível converter o número '{original}' para float\")"
   ]
  },
  {
   "cell_type": "code",
   "execution_count": 56,
   "id": "476d0f75",
   "metadata": {},
   "outputs": [
    {
     "data": {
      "text/html": [
       "<div>\n",
       "<style scoped>\n",
       "    .dataframe tbody tr th:only-of-type {\n",
       "        vertical-align: middle;\n",
       "    }\n",
       "\n",
       "    .dataframe tbody tr th {\n",
       "        vertical-align: top;\n",
       "    }\n",
       "\n",
       "    .dataframe thead th {\n",
       "        text-align: right;\n",
       "    }\n",
       "</style>\n",
       "<table border=\"1\" class=\"dataframe\">\n",
       "  <thead>\n",
       "    <tr style=\"text-align: right;\">\n",
       "      <th></th>\n",
       "      <th>Nome</th>\n",
       "      <th>Tamanho</th>\n",
       "      <th>Fucinho</th>\n",
       "      <th>Peso</th>\n",
       "      <th>Coloração</th>\n",
       "      <th>Alimentação</th>\n",
       "      <th>Região</th>\n",
       "    </tr>\n",
       "  </thead>\n",
       "  <tbody>\n",
       "    <tr>\n",
       "      <th>80</th>\n",
       "      <td>2</td>\n",
       "      <td>3.8</td>\n",
       "      <td>1</td>\n",
       "      <td>418.00</td>\n",
       "      <td>2</td>\n",
       "      <td>2</td>\n",
       "      <td>0</td>\n",
       "    </tr>\n",
       "    <tr>\n",
       "      <th>81</th>\n",
       "      <td>2</td>\n",
       "      <td>3.9</td>\n",
       "      <td>2</td>\n",
       "      <td>420.00</td>\n",
       "      <td>3</td>\n",
       "      <td>4</td>\n",
       "      <td>0</td>\n",
       "    </tr>\n",
       "    <tr>\n",
       "      <th>82</th>\n",
       "      <td>1</td>\n",
       "      <td>3.0</td>\n",
       "      <td>2</td>\n",
       "      <td>300.00</td>\n",
       "      <td>0</td>\n",
       "      <td>5</td>\n",
       "      <td>1</td>\n",
       "    </tr>\n",
       "    <tr>\n",
       "      <th>83</th>\n",
       "      <td>1</td>\n",
       "      <td>2.6</td>\n",
       "      <td>2</td>\n",
       "      <td>320.67</td>\n",
       "      <td>3</td>\n",
       "      <td>4</td>\n",
       "      <td>1</td>\n",
       "    </tr>\n",
       "    <tr>\n",
       "      <th>84</th>\n",
       "      <td>1</td>\n",
       "      <td>3.3</td>\n",
       "      <td>2</td>\n",
       "      <td>290.00</td>\n",
       "      <td>4</td>\n",
       "      <td>4</td>\n",
       "      <td>1</td>\n",
       "    </tr>\n",
       "    <tr>\n",
       "      <th>...</th>\n",
       "      <td>...</td>\n",
       "      <td>...</td>\n",
       "      <td>...</td>\n",
       "      <td>...</td>\n",
       "      <td>...</td>\n",
       "      <td>...</td>\n",
       "      <td>...</td>\n",
       "    </tr>\n",
       "    <tr>\n",
       "      <th>146</th>\n",
       "      <td>0</td>\n",
       "      <td>2.7</td>\n",
       "      <td>2</td>\n",
       "      <td>390.00</td>\n",
       "      <td>5</td>\n",
       "      <td>5</td>\n",
       "      <td>2</td>\n",
       "    </tr>\n",
       "    <tr>\n",
       "      <th>147</th>\n",
       "      <td>0</td>\n",
       "      <td>3.0</td>\n",
       "      <td>0</td>\n",
       "      <td>395.20</td>\n",
       "      <td>3</td>\n",
       "      <td>5</td>\n",
       "      <td>2</td>\n",
       "    </tr>\n",
       "    <tr>\n",
       "      <th>148</th>\n",
       "      <td>0</td>\n",
       "      <td>2.3</td>\n",
       "      <td>0</td>\n",
       "      <td>420.00</td>\n",
       "      <td>2</td>\n",
       "      <td>3</td>\n",
       "      <td>2</td>\n",
       "    </tr>\n",
       "    <tr>\n",
       "      <th>149</th>\n",
       "      <td>0</td>\n",
       "      <td>2.2</td>\n",
       "      <td>2</td>\n",
       "      <td>400.00</td>\n",
       "      <td>5</td>\n",
       "      <td>3</td>\n",
       "      <td>2</td>\n",
       "    </tr>\n",
       "    <tr>\n",
       "      <th>150</th>\n",
       "      <td>0</td>\n",
       "      <td>3.9</td>\n",
       "      <td>0</td>\n",
       "      <td>370.50</td>\n",
       "      <td>3</td>\n",
       "      <td>1</td>\n",
       "      <td>2</td>\n",
       "    </tr>\n",
       "  </tbody>\n",
       "</table>\n",
       "<p>71 rows × 7 columns</p>\n",
       "</div>"
      ],
      "text/plain": [
       "     Nome  Tamanho  Fucinho    Peso  Coloração  Alimentação  Região\n",
       "80      2      3.8        1  418.00          2            2       0\n",
       "81      2      3.9        2  420.00          3            4       0\n",
       "82      1      3.0        2  300.00          0            5       1\n",
       "83      1      2.6        2  320.67          3            4       1\n",
       "84      1      3.3        2  290.00          4            4       1\n",
       "..    ...      ...      ...     ...        ...          ...     ...\n",
       "146     0      2.7        2  390.00          5            5       2\n",
       "147     0      3.0        0  395.20          3            5       2\n",
       "148     0      2.3        0  420.00          2            3       2\n",
       "149     0      2.2        2  400.00          5            3       2\n",
       "150     0      3.9        0  370.50          3            1       2\n",
       "\n",
       "[71 rows x 7 columns]"
      ]
     },
     "execution_count": 56,
     "metadata": {},
     "output_type": "execute_result"
    }
   ],
   "source": [
    "#Transformando variaveis em categorias.\n",
    "le = LabelEncoder()\n",
    "\n",
    "for variaveis in ['Nome','Fucinho','Coloração','Alimentação','Região']:\n",
    "    new_df[variaveis] = le.fit_transform(new_df[variaveis])\n",
    "new_df.loc[80:150]"
   ]
  },
  {
   "cell_type": "code",
   "execution_count": 7,
   "id": "daffcec4",
   "metadata": {},
   "outputs": [],
   "source": [
    "new_df.to_csv('new_df')"
   ]
  },
  {
   "cell_type": "code",
   "execution_count": 7,
   "id": "d8130442",
   "metadata": {},
   "outputs": [
    {
     "data": {
      "image/png": "[encoded data removed]",
      "text/plain": [
       "<Figure size 432x288 with 1 Axes>"
      ]
     },
     "metadata": {
      "needs_background": "light"
     },
     "output_type": "display_data"
    }
   ],
   "source": [
    "ax = sns.countplot(x = new_df['Nome'],data = new_df)"
   ]
  },
  {
   "cell_type": "code",
   "execution_count": 51,
   "id": "fd86fb23",
   "metadata": {},
   "outputs": [
    {
     "data": {
      "text/html": [
       "<div>\n",
       "<style scoped>\n",
       "    .dataframe tbody tr th:only-of-type {\n",
       "        vertical-align: middle;\n",
       "    }\n",
       "\n",
       "    .dataframe tbody tr th {\n",
       "        vertical-align: top;\n",
       "    }\n",
       "\n",
       "    .dataframe thead th {\n",
       "        text-align: right;\n",
       "    }\n",
       "</style>\n",
       "<table border=\"1\" class=\"dataframe\">\n",
       "  <thead>\n",
       "    <tr style=\"text-align: right;\">\n",
       "      <th></th>\n",
       "      <th>Nome</th>\n",
       "      <th>Tamanho</th>\n",
       "      <th>Fucinho</th>\n",
       "      <th>Peso</th>\n",
       "      <th>Coloração</th>\n",
       "      <th>Alimentação</th>\n",
       "      <th>Região</th>\n",
       "    </tr>\n",
       "  </thead>\n",
       "  <tbody>\n",
       "    <tr>\n",
       "      <th>80</th>\n",
       "      <td>Crocodylus acutus</td>\n",
       "      <td>3.8</td>\n",
       "      <td>Longo</td>\n",
       "      <td>418.00</td>\n",
       "      <td>Cinza</td>\n",
       "      <td>Crustaceos</td>\n",
       "      <td>America Central</td>\n",
       "    </tr>\n",
       "    <tr>\n",
       "      <th>81</th>\n",
       "      <td>Crocodylus acutus</td>\n",
       "      <td>3.9</td>\n",
       "      <td>Medio</td>\n",
       "      <td>420.00</td>\n",
       "      <td>Preto</td>\n",
       "      <td>Moluscos</td>\n",
       "      <td>America Central</td>\n",
       "    </tr>\n",
       "    <tr>\n",
       "      <th>82</th>\n",
       "      <td>Caiman yacare</td>\n",
       "      <td>3.0</td>\n",
       "      <td>Medio</td>\n",
       "      <td>300.00</td>\n",
       "      <td>Amarelo Escuro</td>\n",
       "      <td>Peixes</td>\n",
       "      <td>America do Sul</td>\n",
       "    </tr>\n",
       "    <tr>\n",
       "      <th>83</th>\n",
       "      <td>Caiman yacare</td>\n",
       "      <td>2.6</td>\n",
       "      <td>Medio</td>\n",
       "      <td>320.67</td>\n",
       "      <td>Preto</td>\n",
       "      <td>Moluscos</td>\n",
       "      <td>America do Sul</td>\n",
       "    </tr>\n",
       "    <tr>\n",
       "      <th>84</th>\n",
       "      <td>Caiman yacare</td>\n",
       "      <td>3.3</td>\n",
       "      <td>Medio</td>\n",
       "      <td>290.00</td>\n",
       "      <td>Preto Amarelo</td>\n",
       "      <td>Moluscos</td>\n",
       "      <td>America do Sul</td>\n",
       "    </tr>\n",
       "    <tr>\n",
       "      <th>...</th>\n",
       "      <td>...</td>\n",
       "      <td>...</td>\n",
       "      <td>...</td>\n",
       "      <td>...</td>\n",
       "      <td>...</td>\n",
       "      <td>...</td>\n",
       "      <td>...</td>\n",
       "    </tr>\n",
       "    <tr>\n",
       "      <th>146</th>\n",
       "      <td>Alligator mississippiensis</td>\n",
       "      <td>2.7</td>\n",
       "      <td>Medio</td>\n",
       "      <td>390.00</td>\n",
       "      <td>Verde Escuro</td>\n",
       "      <td>Peixes</td>\n",
       "      <td>Estados Unidos</td>\n",
       "    </tr>\n",
       "    <tr>\n",
       "      <th>147</th>\n",
       "      <td>Alligator mississippiensis</td>\n",
       "      <td>3.0</td>\n",
       "      <td>Curto</td>\n",
       "      <td>395.20</td>\n",
       "      <td>Preto</td>\n",
       "      <td>Peixes</td>\n",
       "      <td>Estados Unidos</td>\n",
       "    </tr>\n",
       "    <tr>\n",
       "      <th>148</th>\n",
       "      <td>Alligator mississippiensis</td>\n",
       "      <td>2.3</td>\n",
       "      <td>Curto</td>\n",
       "      <td>420.00</td>\n",
       "      <td>Cinza</td>\n",
       "      <td>Inseto</td>\n",
       "      <td>Estados Unidos</td>\n",
       "    </tr>\n",
       "    <tr>\n",
       "      <th>149</th>\n",
       "      <td>Alligator mississippiensis</td>\n",
       "      <td>2.2</td>\n",
       "      <td>Medio</td>\n",
       "      <td>400.00</td>\n",
       "      <td>Verde Escuro</td>\n",
       "      <td>Inseto</td>\n",
       "      <td>Estados Unidos</td>\n",
       "    </tr>\n",
       "    <tr>\n",
       "      <th>150</th>\n",
       "      <td>Alligator mississippiensis</td>\n",
       "      <td>3.9</td>\n",
       "      <td>Curto</td>\n",
       "      <td>370.50</td>\n",
       "      <td>Preto</td>\n",
       "      <td>Cobra</td>\n",
       "      <td>Estados Unidos</td>\n",
       "    </tr>\n",
       "  </tbody>\n",
       "</table>\n",
       "<p>71 rows × 7 columns</p>\n",
       "</div>"
      ],
      "text/plain": [
       "                           Nome  Tamanho Fucinho    Peso       Coloração  \\\n",
       "80            Crocodylus acutus      3.8   Longo  418.00           Cinza   \n",
       "81            Crocodylus acutus      3.9   Medio  420.00           Preto   \n",
       "82                Caiman yacare      3.0   Medio  300.00  Amarelo Escuro   \n",
       "83                Caiman yacare      2.6   Medio  320.67           Preto   \n",
       "84                Caiman yacare      3.3   Medio  290.00   Preto Amarelo   \n",
       "..                          ...      ...     ...     ...             ...   \n",
       "146  Alligator mississippiensis      2.7   Medio  390.00    Verde Escuro   \n",
       "147  Alligator mississippiensis      3.0   Curto  395.20           Preto   \n",
       "148  Alligator mississippiensis      2.3   Curto  420.00           Cinza   \n",
       "149  Alligator mississippiensis      2.2   Medio  400.00    Verde Escuro   \n",
       "150  Alligator mississippiensis      3.9   Curto  370.50           Preto   \n",
       "\n",
       "    Alimentação           Região  \n",
       "80   Crustaceos  America Central  \n",
       "81     Moluscos  America Central  \n",
       "82       Peixes   America do Sul  \n",
       "83     Moluscos   America do Sul  \n",
       "84     Moluscos   America do Sul  \n",
       "..          ...              ...  \n",
       "146      Peixes   Estados Unidos  \n",
       "147      Peixes   Estados Unidos  \n",
       "148      Inseto   Estados Unidos  \n",
       "149      Inseto   Estados Unidos  \n",
       "150       Cobra   Estados Unidos  \n",
       "\n",
       "[71 rows x 7 columns]"
      ]
     },
     "execution_count": 51,
     "metadata": {},
     "output_type": "execute_result"
    }
   ],
   "source": [
    "df['Tamanho'] = df['Tamanho'].apply(formata_numeros)\n",
    "new_df = df\n",
    "new_df.loc[80:150]"
   ]
  },
  {
   "cell_type": "markdown",
   "id": "37c56aaf",
   "metadata": {},
   "source": [
    "Separação dos Dados de Treino,Teste e Criação do Modelo De Previsão"
   ]
  },
  {
   "cell_type": "code",
   "execution_count": 15,
   "id": "6d0c66f0",
   "metadata": {},
   "outputs": [
    {
     "name": "stdout",
     "output_type": "stream",
     "text": [
      "(164, 6) (164, 1)\n"
     ]
    }
   ],
   "source": [
    "#Separação das variaveis explicativas X , e o target y.\n",
    "\n",
    "X = new_df[['Tamanho','Fucinho','Peso','Coloração','Alimentação','Região']]\n",
    "y = new_df[['Nome']].values\n",
    "print(X.shape,y.shape)"
   ]
  },
  {
   "cell_type": "code",
   "execution_count": 16,
   "id": "e6e2324d",
   "metadata": {},
   "outputs": [
    {
     "name": "stdout",
     "output_type": "stream",
     "text": [
      "(50, 6) (50, 1)\n"
     ]
    }
   ],
   "source": [
    "#Separação do treino e teste\n",
    "X_train,X_test,y_train,y_test = train_test_split(X,y,test_size = 0.3)\n",
    "print(X_test.shape,y_test.shape)"
   ]
  },
  {
   "cell_type": "code",
   "execution_count": 17,
   "id": "c46f1f34",
   "metadata": {},
   "outputs": [],
   "source": [
    "#Criação do modelo Arvore de Decisão\n",
    "model_Lr = LogisticRegression(multi_class = 'ovr')"
   ]
  },
  {
   "cell_type": "code",
   "execution_count": 18,
   "id": "fb9b04c7",
   "metadata": {},
   "outputs": [
    {
     "data": {
      "text/html": [
       "<style>#sk-container-id-2 {color: black;background-color: white;}#sk-container-id-2 pre{padding: 0;}#sk-container-id-2 div.sk-toggleable {background-color: white;}#sk-container-id-2 label.sk-toggleable__label {cursor: pointer;display: block;width: 100%;margin-bottom: 0;padding: 0.3em;box-sizing: border-box;text-align: center;}#sk-container-id-2 label.sk-toggleable__label-arrow:before {content: \"▸\";float: left;margin-right: 0.25em;color: #696969;}#sk-container-id-2 label.sk-toggleable__label-arrow:hover:before {color: black;}#sk-container-id-2 div.sk-estimator:hover label.sk-toggleable__label-arrow:before {color: black;}#sk-container-id-2 div.sk-toggleable__content {max-height: 0;max-width: 0;overflow: hidden;text-align: left;background-color: #f0f8ff;}#sk-container-id-2 div.sk-toggleable__content pre {margin: 0.2em;color: black;border-radius: 0.25em;background-color: #f0f8ff;}#sk-container-id-2 input.sk-toggleable__control:checked~div.sk-toggleable__content {max-height: 200px;max-width: 100%;overflow: auto;}#sk-container-id-2 input.sk-toggleable__control:checked~label.sk-toggleable__label-arrow:before {content: \"▾\";}#sk-container-id-2 div.sk-estimator input.sk-toggleable__control:checked~label.sk-toggleable__label {background-color: #d4ebff;}#sk-container-id-2 div.sk-label input.sk-toggleable__control:checked~label.sk-toggleable__label {background-color: #d4ebff;}#sk-container-id-2 input.sk-hidden--visually {border: 0;clip: rect(1px 1px 1px 1px);clip: rect(1px, 1px, 1px, 1px);height: 1px;margin: -1px;overflow: hidden;padding: 0;position: absolute;width: 1px;}#sk-container-id-2 div.sk-estimator {font-family: monospace;background-color: #f0f8ff;border: 1px dotted black;border-radius: 0.25em;box-sizing: border-box;margin-bottom: 0.5em;}#sk-container-id-2 div.sk-estimator:hover {background-color: #d4ebff;}#sk-container-id-2 div.sk-parallel-item::after {content: \"\";width: 100%;border-bottom: 1px solid gray;flex-grow: 1;}#sk-container-id-2 div.sk-label:hover label.sk-toggleable__label {background-color: #d4ebff;}#sk-container-id-2 div.sk-serial::before {content: \"\";position: absolute;border-left: 1px solid gray;box-sizing: border-box;top: 0;bottom: 0;left: 50%;z-index: 0;}#sk-container-id-2 div.sk-serial {display: flex;flex-direction: column;align-items: center;background-color: white;padding-right: 0.2em;padding-left: 0.2em;position: relative;}#sk-container-id-2 div.sk-item {position: relative;z-index: 1;}#sk-container-id-2 div.sk-parallel {display: flex;align-items: stretch;justify-content: center;background-color: white;position: relative;}#sk-container-id-2 div.sk-item::before, #sk-container-id-2 div.sk-parallel-item::before {content: \"\";position: absolute;border-left: 1px solid gray;box-sizing: border-box;top: 0;bottom: 0;left: 50%;z-index: -1;}#sk-container-id-2 div.sk-parallel-item {display: flex;flex-direction: column;z-index: 1;position: relative;background-color: white;}#sk-container-id-2 div.sk-parallel-item:first-child::after {align-self: flex-end;width: 50%;}#sk-container-id-2 div.sk-parallel-item:last-child::after {align-self: flex-start;width: 50%;}#sk-container-id-2 div.sk-parallel-item:only-child::after {width: 0;}#sk-container-id-2 div.sk-dashed-wrapped {border: 1px dashed gray;margin: 0 0.4em 0.5em 0.4em;box-sizing: border-box;padding-bottom: 0.4em;background-color: white;}#sk-container-id-2 div.sk-label label {font-family: monospace;font-weight: bold;display: inline-block;line-height: 1.2em;}#sk-container-id-2 div.sk-label-container {text-align: center;}#sk-container-id-2 div.sk-container {/* jupyter's `normalize.less` sets `[hidden] { display: none; }` but bootstrap.min.css set `[hidden] { display: none !important; }` so we also need the `!important` here to be able to override the default hidden behavior on the sphinx rendered scikit-learn.org. See: https://github.com/scikit-learn/scikit-learn/issues/21755 */display: inline-block !important;position: relative;}#sk-container-id-2 div.sk-text-repr-fallback {display: none;}</style><div id=\"sk-container-id-2\" class=\"sk-top-container\"><div class=\"sk-text-repr-fallback\"><pre>LogisticRegression(multi_class=&#x27;ovr&#x27;)</pre><b>In a Jupyter environment, please rerun this cell to show the HTML representation or trust the notebook. <br />On GitHub, the HTML representation is unable to render, please try loading this page with nbviewer.org.</b></div><div class=\"sk-container\" hidden><div class=\"sk-item\"><div class=\"sk-estimator sk-toggleable\"><input class=\"sk-toggleable__control sk-hidden--visually\" id=\"sk-estimator-id-2\" type=\"checkbox\" checked><label for=\"sk-estimator-id-2\" class=\"sk-toggleable__label sk-toggleable__label-arrow\">LogisticRegression</label><div class=\"sk-toggleable__content\"><pre>LogisticRegression(multi_class=&#x27;ovr&#x27;)</pre></div></div></div></div></div>"
      ],
      "text/plain": [
       "LogisticRegression(multi_class='ovr')"
      ]
     },
     "execution_count": 18,
     "metadata": {},
     "output_type": "execute_result"
    }
   ],
   "source": [
    "model_Lr.fit(X_train,y_train)\n",
    "model_Lr"
   ]
  },
  {
   "cell_type": "code",
   "execution_count": 19,
   "id": "28f2a137",
   "metadata": {},
   "outputs": [
    {
     "data": {
      "text/plain": [
       "array([1.        , 0.90909091, 1.        , 0.93939394, 1.        ])"
      ]
     },
     "execution_count": 19,
     "metadata": {},
     "output_type": "execute_result"
    }
   ],
   "source": [
    "cv = cross_val_score(model_Lr,X,y,cv = 5 , scoring = 'accuracy')\n",
    "cv"
   ]
  },
  {
   "cell_type": "code",
   "execution_count": 20,
   "id": "0d4babe7",
   "metadata": {},
   "outputs": [],
   "source": [
    "predict_Lr = model_Lr.predict(X_test)"
   ]
  },
  {
   "cell_type": "code",
   "execution_count": 21,
   "id": "fed68b10",
   "metadata": {},
   "outputs": [
    {
     "name": "stdout",
     "output_type": "stream",
     "text": [
      "              precision    recall  f1-score   support\n",
      "\n",
      "           0       1.00      0.90      0.95        10\n",
      "           1       0.72      1.00      0.84        13\n",
      "           2       1.00      0.69      0.82        13\n",
      "           3       1.00      1.00      1.00        14\n",
      "\n",
      "    accuracy                           0.90        50\n",
      "   macro avg       0.93      0.90      0.90        50\n",
      "weighted avg       0.93      0.90      0.90        50\n",
      "\n"
     ]
    }
   ],
   "source": [
    "medicao = classification_report(predict_Lr,y_test)\n",
    "print(medicao)"
   ]
  },
  {
   "cell_type": "code",
   "execution_count": 15,
   "id": "b61b8c9f",
   "metadata": {},
   "outputs": [
    {
     "name": "stdout",
     "output_type": "stream",
     "text": [
      "0.06\n"
     ]
    }
   ],
   "source": [
    "erro = mean_absolute_error(predict_Lr,y_test)\n",
    "print(erro)"
   ]
  },
  {
   "cell_type": "code",
   "execution_count": 20,
   "id": "3d068de4",
   "metadata": {},
   "outputs": [],
   "source": [
    "model_dtc = tree.DecisionTreeClassifier()"
   ]
  },
  {
   "cell_type": "code",
   "execution_count": 21,
   "id": "d94ccaa5",
   "metadata": {},
   "outputs": [
    {
     "data": {
      "text/html": [
       "<style>#sk-container-id-2 {color: black;background-color: white;}#sk-container-id-2 pre{padding: 0;}#sk-container-id-2 div.sk-toggleable {background-color: white;}#sk-container-id-2 label.sk-toggleable__label {cursor: pointer;display: block;width: 100%;margin-bottom: 0;padding: 0.3em;box-sizing: border-box;text-align: center;}#sk-container-id-2 label.sk-toggleable__label-arrow:before {content: \"▸\";float: left;margin-right: 0.25em;color: #696969;}#sk-container-id-2 label.sk-toggleable__label-arrow:hover:before {color: black;}#sk-container-id-2 div.sk-estimator:hover label.sk-toggleable__label-arrow:before {color: black;}#sk-container-id-2 div.sk-toggleable__content {max-height: 0;max-width: 0;overflow: hidden;text-align: left;background-color: #f0f8ff;}#sk-container-id-2 div.sk-toggleable__content pre {margin: 0.2em;color: black;border-radius: 0.25em;background-color: #f0f8ff;}#sk-container-id-2 input.sk-toggleable__control:checked~div.sk-toggleable__content {max-height: 200px;max-width: 100%;overflow: auto;}#sk-container-id-2 input.sk-toggleable__control:checked~label.sk-toggleable__label-arrow:before {content: \"▾\";}#sk-container-id-2 div.sk-estimator input.sk-toggleable__control:checked~label.sk-toggleable__label {background-color: #d4ebff;}#sk-container-id-2 div.sk-label input.sk-toggleable__control:checked~label.sk-toggleable__label {background-color: #d4ebff;}#sk-container-id-2 input.sk-hidden--visually {border: 0;clip: rect(1px 1px 1px 1px);clip: rect(1px, 1px, 1px, 1px);height: 1px;margin: -1px;overflow: hidden;padding: 0;position: absolute;width: 1px;}#sk-container-id-2 div.sk-estimator {font-family: monospace;background-color: #f0f8ff;border: 1px dotted black;border-radius: 0.25em;box-sizing: border-box;margin-bottom: 0.5em;}#sk-container-id-2 div.sk-estimator:hover {background-color: #d4ebff;}#sk-container-id-2 div.sk-parallel-item::after {content: \"\";width: 100%;border-bottom: 1px solid gray;flex-grow: 1;}#sk-container-id-2 div.sk-label:hover label.sk-toggleable__label {background-color: #d4ebff;}#sk-container-id-2 div.sk-serial::before {content: \"\";position: absolute;border-left: 1px solid gray;box-sizing: border-box;top: 0;bottom: 0;left: 50%;z-index: 0;}#sk-container-id-2 div.sk-serial {display: flex;flex-direction: column;align-items: center;background-color: white;padding-right: 0.2em;padding-left: 0.2em;position: relative;}#sk-container-id-2 div.sk-item {position: relative;z-index: 1;}#sk-container-id-2 div.sk-parallel {display: flex;align-items: stretch;justify-content: center;background-color: white;position: relative;}#sk-container-id-2 div.sk-item::before, #sk-container-id-2 div.sk-parallel-item::before {content: \"\";position: absolute;border-left: 1px solid gray;box-sizing: border-box;top: 0;bottom: 0;left: 50%;z-index: -1;}#sk-container-id-2 div.sk-parallel-item {display: flex;flex-direction: column;z-index: 1;position: relative;background-color: white;}#sk-container-id-2 div.sk-parallel-item:first-child::after {align-self: flex-end;width: 50%;}#sk-container-id-2 div.sk-parallel-item:last-child::after {align-self: flex-start;width: 50%;}#sk-container-id-2 div.sk-parallel-item:only-child::after {width: 0;}#sk-container-id-2 div.sk-dashed-wrapped {border: 1px dashed gray;margin: 0 0.4em 0.5em 0.4em;box-sizing: border-box;padding-bottom: 0.4em;background-color: white;}#sk-container-id-2 div.sk-label label {font-family: monospace;font-weight: bold;display: inline-block;line-height: 1.2em;}#sk-container-id-2 div.sk-label-container {text-align: center;}#sk-container-id-2 div.sk-container {/* jupyter's `normalize.less` sets `[hidden] { display: none; }` but bootstrap.min.css set `[hidden] { display: none !important; }` so we also need the `!important` here to be able to override the default hidden behavior on the sphinx rendered scikit-learn.org. See: https://github.com/scikit-learn/scikit-learn/issues/21755 */display: inline-block !important;position: relative;}#sk-container-id-2 div.sk-text-repr-fallback {display: none;}</style><div id=\"sk-container-id-2\" class=\"sk-top-container\"><div class=\"sk-text-repr-fallback\"><pre>DecisionTreeClassifier()</pre><b>In a Jupyter environment, please rerun this cell to show the HTML representation or trust the notebook. <br />On GitHub, the HTML representation is unable to render, please try loading this page with nbviewer.org.</b></div><div class=\"sk-container\" hidden><div class=\"sk-item\"><div class=\"sk-estimator sk-toggleable\"><input class=\"sk-toggleable__control sk-hidden--visually\" id=\"sk-estimator-id-2\" type=\"checkbox\" checked><label for=\"sk-estimator-id-2\" class=\"sk-toggleable__label sk-toggleable__label-arrow\">DecisionTreeClassifier</label><div class=\"sk-toggleable__content\"><pre>DecisionTreeClassifier()</pre></div></div></div></div></div>"
      ],
      "text/plain": [
       "DecisionTreeClassifier()"
      ]
     },
     "execution_count": 21,
     "metadata": {},
     "output_type": "execute_result"
    }
   ],
   "source": [
    "model_dtc.fit(X_train,y_train)"
   ]
  },
  {
   "cell_type": "code",
   "execution_count": 22,
   "id": "53577b62",
   "metadata": {},
   "outputs": [],
   "source": [
    "model_dtc = model_dtc.predict(X_test)"
   ]
  },
  {
   "cell_type": "code",
   "execution_count": 23,
   "id": "ae70e985",
   "metadata": {
    "scrolled": true
   },
   "outputs": [
    {
     "name": "stdout",
     "output_type": "stream",
     "text": [
      "              precision    recall  f1-score   support\n",
      "\n",
      "           0       1.00      1.00      1.00        11\n",
      "           1       1.00      1.00      1.00        14\n",
      "           2       1.00      1.00      1.00        15\n",
      "           3       1.00      1.00      1.00        10\n",
      "\n",
      "    accuracy                           1.00        50\n",
      "   macro avg       1.00      1.00      1.00        50\n",
      "weighted avg       1.00      1.00      1.00        50\n",
      "\n"
     ]
    }
   ],
   "source": [
    "medicao_dtc = classification_report(model_dtc,y_test)\n",
    "print(medicao_dtc)"
   ]
  },
  {
   "cell_type": "code",
   "execution_count": 68,
   "id": "a407a6c0",
   "metadata": {},
   "outputs": [
    {
     "name": "stdout",
     "output_type": "stream",
     "text": [
      "[3]\n"
     ]
    }
   ],
   "source": [
    "dados = np.array([6.0,2,1000,4,0,2]).reshape(1,-1)\n",
    "predict = model_Lr.predict(dados)\n",
    "print(predict)"
   ]
  },
  {
   "cell_type": "code",
   "execution_count": null,
   "id": "2adf2fc9",
   "metadata": {},
   "outputs": [],
   "source": []
  }
 ],
 "metadata": {
  "kernelspec": {
   "display_name": "Python 3 (ipykernel)",
   "language": "python",
   "name": "python3"
  },
  "language_info": {
   "codemirror_mode": {
    "name": "ipython",
    "version": 3
   },
   "file_extension": ".py",
   "mimetype": "text/x-python",
   "name": "python",
   "nbconvert_exporter": "python",
   "pygments_lexer": "ipython3",
   "version": "3.9.12"
  }
 },
 "nbformat": 4,
 "nbformat_minor": 5
}
